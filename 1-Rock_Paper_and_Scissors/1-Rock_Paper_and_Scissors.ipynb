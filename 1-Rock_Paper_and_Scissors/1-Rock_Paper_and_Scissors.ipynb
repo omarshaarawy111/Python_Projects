{
 "cells": [
  {
   "cell_type": "markdown",
   "metadata": {
    "id": "oHuO6uJklj2l"
   },
   "source": [
    "![1_8du96SQUQ0NlWmWvVu20Zw.png](attachment:1_8du96SQUQ0NlWmWvVu20Zw.png)"
   ]
  },
  {
   "cell_type": "markdown",
   "metadata": {
    "id": "SBAswFV9lj2p"
   },
   "source": [
    "### Description \n",
    "> #### In this game, the user gets the first chance to pick the option among Rock, paper and scissors. After that computer select from the remaining two choices(randomly), the winner is decided as per the rules.\n",
    "- Rock vs paper-> paper wins\n",
    "- Rock vs scissor-> Rock wins\n",
    "- paper vs scissor-> scissor wins."
   ]
  },
  {
   "cell_type": "code",
   "execution_count": 3,
   "metadata": {},
   "outputs": [
    {
     "name": "stdout",
     "output_type": "stream",
     "text": [
      "Winning Rules of the Rock paper scissor game as follows: \n",
      "\n",
      "Rock vs paper->paper wins \n",
      "\n",
      "Rock vs scissor->Rock wins \n",
      "\n",
      "paper vs scissor->scissor wins \n",
      "\n",
      "enter choice : (rock or paper or scissors) paper\n",
      "Computer chooses rock and it loses\n"
     ]
    }
   ],
   "source": [
    "import random\n",
    "\n",
    "def computer_turn(choice):\n",
    "    human_choices = [\"rock\", \"paper\", \"scissors\"]\n",
    "    computer_action = random.choice(human_choices)\n",
    "    if choice==computer_action:\n",
    "        print(\"Computer chooses {} and it is draw\".format(computer_action))\n",
    "    elif choice==\"rock\" :\n",
    "        if computer_action == \"paper\" :\n",
    "            print (\"Computer chooses {} and it wins\".format(computer_action))\n",
    "        else :\n",
    "            print (\"Computer chooses {} and it loses\".format(computer_action))\n",
    "    elif choice==\"paper\" :\n",
    "        if computer_action == \"scissors\" :\n",
    "            print (\"Computer chooses {} and it wins\".format(computer_action))\n",
    "        else :\n",
    "            print (\"Computer chooses {} and it loses\".format(computer_action))\n",
    "    elif choice==\"scissors\" :\n",
    "        if computer_action == \"rock\" :\n",
    "            print (\"Computer chooses {} and it wins\".format(computer_action))\n",
    "        else :\n",
    "            print (\"Computer chooses {} and it loses\".format(computer_action))\n",
    "                            \n",
    "\n",
    "def play():\n",
    "    print(\"Winning Rules of the Rock paper scissor game as follows: \\n\")\n",
    "    print(\"Rock vs paper->paper wins \\n\")\n",
    "    print(\"Rock vs scissor->Rock wins \\n\")\n",
    "    print(\"paper vs scissor->scissor wins \\n\")\n",
    "    choice=input(\"enter choice : (rock or paper or scissors) \").lower()\n",
    "    if choice == 'rock' or choice == 'paper' or choice == 'scissors':\n",
    "        computer_turn(choice)\n",
    "    else :\n",
    "        play()\n",
    "\n",
    "play()    "
   ]
  },
  {
   "cell_type": "code",
   "execution_count": 7,
   "metadata": {
    "id": "FT1MTUtklj2q"
   },
   "outputs": [
    {
     "name": "stdout",
     "output_type": "stream",
     "text": [
      "Winning Rules of the Rock paper scissor game as follows: \n",
      "Rock vs paper->paper wins \n",
      "Rock vs scissor->Rock wins \n",
      "paper vs scissor->scissor wins \n",
      "\n"
     ]
    }
   ],
   "source": []
  },
  {
   "cell_type": "code",
   "execution_count": null,
   "metadata": {},
   "outputs": [],
   "source": []
  }
 ],
 "metadata": {
  "colab": {
   "provenance": []
  },
  "kernelspec": {
   "display_name": "Python 3 (ipykernel)",
   "language": "python",
   "name": "python3"
  },
  "language_info": {
   "codemirror_mode": {
    "name": "ipython",
    "version": 3
   },
   "file_extension": ".py",
   "mimetype": "text/x-python",
   "name": "python",
   "nbconvert_exporter": "python",
   "pygments_lexer": "ipython3",
   "version": "3.9.13"
  }
 },
 "nbformat": 4,
 "nbformat_minor": 1
}
