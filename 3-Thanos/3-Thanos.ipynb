{
 "cells": [
  {
   "cell_type": "markdown",
   "metadata": {
    "id": "C468qUNtANW8"
   },
   "source": [
    "<img src=\"thanos.jpg\">"
   ]
  },
  {
   "cell_type": "markdown",
   "metadata": {},
   "source": [
    "- you are required to destroy randomly (delete) half of the files in the \"universe\" directory \n",
    "- sanity check: check on the number of files in the \"universe\" folder before and after runnign the code"
   ]
  },
  {
   "cell_type": "code",
   "execution_count": 2,
   "metadata": {
    "id": "VZAENSTqANXE"
   },
   "outputs": [],
   "source": []
  },
  {
   "cell_type": "code",
   "execution_count": 3,
   "metadata": {},
   "outputs": [
    {
     "name": "stdout",
     "output_type": "stream",
     "text": [
      "['cover003.png', 'cover004.png', 'cover005.png', 'cover006.png', 'cover009.png', 'cover011.png', 'cover014.png', 'cover015.png', 'cover016.png', 'cover018.png', 'cover020.png', 'cover023.png', 'cover024.png', 'cover025.png', 'cover027.png', 'cover028.png', 'cover030.png', 'cover031.png', 'cover033.png', 'cover039.png', 'cover040.png', 'cover041.png', 'cover043.png', 'cover046.png', 'cover050.png', 'desktop.ini']\n",
      "26\n",
      "13\n"
     ]
    }
   ],
   "source": [
    "import os\n",
    "import random\n",
    "import time\n",
    "def get_path(path):\n",
    "    return os.listdir(path)\n",
    "\n",
    "def change_path(path):\n",
    "    return os.chdir(path)\n",
    "\n",
    "def current_path():\n",
    "    return os.getcwd()\n",
    "\n",
    "def take() :\n",
    "    current_path()\n",
    "    change_path(\"D:\\Work\\DS\\Epsilon\\Python\\Lectures\\Lecture 7\\Project 3\\Images\")\n",
    "    current_path()\n",
    "    lst=get_path(\"D:\\Work\\DS\\Epsilon\\Python\\Lectures\\Lecture 7\\Project 3\\Images\")\n",
    "    print(lst)\n",
    "    print(len(lst))\n",
    "    rand=list(random.sample(lst,k=int(len(lst)/2)))\n",
    "    print(len(rand))\n",
    "    for i in range(len(rand)) :\n",
    "        os.remove(rand[i])\n",
    "    #for in rand :\n",
    "        #os.remove(i)\n",
    " #sample is better than choices   \n",
    "take()\n"
   ]
  },
  {
   "cell_type": "code",
   "execution_count": 15,
   "metadata": {},
   "outputs": [
    {
     "data": {
      "text/plain": [
       "'D:\\\\Work\\\\DS\\\\Epsilon\\\\Python\\\\Lectures\\\\Lecture 7\\\\Project 3'"
      ]
     },
     "execution_count": 15,
     "metadata": {},
     "output_type": "execute_result"
    }
   ],
   "source": []
  },
  {
   "cell_type": "code",
   "execution_count": 28,
   "metadata": {},
   "outputs": [
    {
     "name": "stdout",
     "output_type": "stream",
     "text": [
      "22\n"
     ]
    }
   ],
   "source": []
  },
  {
   "cell_type": "code",
   "execution_count": null,
   "metadata": {},
   "outputs": [],
   "source": []
  }
 ],
 "metadata": {
  "kernelspec": {
   "display_name": "Python 3",
   "language": "python",
   "name": "python3"
  },
  "language_info": {
   "codemirror_mode": {
    "name": "ipython",
    "version": 3
   },
   "file_extension": ".py",
   "mimetype": "text/x-python",
   "name": "python",
   "nbconvert_exporter": "python",
   "pygments_lexer": "ipython3",
   "version": "3.7.6"
  }
 },
 "nbformat": 4,
 "nbformat_minor": 5
}
